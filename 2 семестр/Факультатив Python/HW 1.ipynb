{
 "cells": [
  {
   "cell_type": "markdown",
   "id": "ec781102",
   "metadata": {},
   "source": [
    "0. Импортируем модуль `pandas` под сокращением `pd`"
   ]
  },
  {
   "cell_type": "code",
   "execution_count": 1,
   "id": "b795a78b",
   "metadata": {},
   "outputs": [],
   "source": [
    "import pandas as pd"
   ]
  },
  {
   "cell_type": "markdown",
   "id": "a34d6fb1",
   "metadata": {},
   "source": [
    "1. Выгружаем из csv-файла все данные"
   ]
  },
  {
   "cell_type": "code",
   "execution_count": 2,
   "id": "5f32db61",
   "metadata": {},
   "outputs": [],
   "source": [
    "db = pd.read_csv('Manual_transcription clear with label.csv', sep=';')"
   ]
  },
  {
   "cell_type": "markdown",
   "id": "a45c4edc",
   "metadata": {},
   "source": [
    "2. Удаляем колонку *Name_audio*"
   ]
  },
  {
   "cell_type": "code",
   "execution_count": 3,
   "id": "ac6a9bc2",
   "metadata": {},
   "outputs": [],
   "source": [
    "db = db.drop(columns = 'Name_audio')"
   ]
  },
  {
   "cell_type": "markdown",
   "id": "0f354977",
   "metadata": {},
   "source": [
    "3. Переименовываем колонку *label* в *Emotion*"
   ]
  },
  {
   "cell_type": "code",
   "execution_count": 4,
   "id": "f4715302",
   "metadata": {},
   "outputs": [],
   "source": [
    "db.rename(columns={'label': 'Emotion'}, inplace=True)"
   ]
  },
  {
   "cell_type": "markdown",
   "id": "02d602e6",
   "metadata": {},
   "source": [
    "4. Добавляем колонку *Sentiment* (т.к. её содержание основано на *Emotion*, то заполним её значениями из этого столбца)"
   ]
  },
  {
   "cell_type": "code",
   "execution_count": 5,
   "id": "08a473a8",
   "metadata": {},
   "outputs": [],
   "source": [
    "db['Sentiment'] = db['Emotion']"
   ]
  },
  {
   "cell_type": "markdown",
   "id": "94cf5e95",
   "metadata": {},
   "source": [
    "5. Заполняем колонку сентиментов на основе эмоций"
   ]
  },
  {
   "cell_type": "code",
   "execution_count": 6,
   "id": "82db82c1",
   "metadata": {},
   "outputs": [],
   "source": [
    "sntmnt_converter = {'гнев': 'негатив', 'грусть': 'негатив','отвращение': 'негатив', 'страх': 'негатив',\n",
    "                    'радость':'позитив', 'удивление':'позитив', 'нейтраль': 'нейтраль'}\n",
    "db['Sentiment'] = db['Sentiment'].apply(lambda em: sntmnt_converter[em])"
   ]
  },
  {
   "cell_type": "markdown",
   "id": "d5636b8f",
   "metadata": {},
   "source": [
    "6. Проверим, всё ли хорошо преобразовалось"
   ]
  },
  {
   "cell_type": "code",
   "execution_count": 7,
   "id": "1c067583",
   "metadata": {
    "scrolled": false
   },
   "outputs": [],
   "source": [
    "import numpy as np\n",
    "emotions, sentiments = np.unique(db['Emotion']).tolist(), np.unique(db['Sentiment']).tolist()"
   ]
  },
  {
   "cell_type": "markdown",
   "id": "8a42726c",
   "metadata": {},
   "source": [
    "7. Преобразуем эмоции в цифры и запишем в новую колонку *Emotion digits*"
   ]
  },
  {
   "cell_type": "code",
   "execution_count": 8,
   "id": "1d843f07",
   "metadata": {},
   "outputs": [],
   "source": [
    "db['Emotion digits'] = db['Emotion'].apply(lambda em: {em_type: num for num, em_type in enumerate(emotions)}[em])"
   ]
  },
  {
   "cell_type": "markdown",
   "id": "502f2760",
   "metadata": {},
   "source": [
    "8. Преобразуем сентименты в цифры и запишем в новую колонку *Sentiment digits*"
   ]
  },
  {
   "cell_type": "code",
   "execution_count": 9,
   "id": "cc7fe473",
   "metadata": {},
   "outputs": [],
   "source": [
    "db['Sentiment digits'] = db['Sentiment'].apply(lambda se: {se_type: num for num, se_type in enumerate(sentiments)}[se])"
   ]
  },
  {
   "cell_type": "markdown",
   "id": "21ecb752",
   "metadata": {},
   "source": [
    "9. Сохраним изменённую таблицу в csv-файл с новым названием"
   ]
  },
  {
   "cell_type": "code",
   "execution_count": 10,
   "id": "43492a94",
   "metadata": {},
   "outputs": [
    {
     "data": {
      "text/html": [
       "<div>\n",
       "<style scoped>\n",
       "    .dataframe tbody tr th:only-of-type {\n",
       "        vertical-align: middle;\n",
       "    }\n",
       "\n",
       "    .dataframe tbody tr th {\n",
       "        vertical-align: top;\n",
       "    }\n",
       "\n",
       "    .dataframe thead th {\n",
       "        text-align: right;\n",
       "    }\n",
       "</style>\n",
       "<table border=\"1\" class=\"dataframe\">\n",
       "  <thead>\n",
       "    <tr style=\"text-align: right;\">\n",
       "      <th></th>\n",
       "      <th>Transcription</th>\n",
       "      <th>Emotion</th>\n",
       "      <th>Sentiment</th>\n",
       "      <th>Emotion digits</th>\n",
       "      <th>Sentiment digits</th>\n",
       "    </tr>\n",
       "  </thead>\n",
       "  <tbody>\n",
       "    <tr>\n",
       "      <th>0</th>\n",
       "      <td>Давай ты успокоишься для начала. Ты можешь не ...</td>\n",
       "      <td>гнев</td>\n",
       "      <td>негатив</td>\n",
       "      <td>0</td>\n",
       "      <td>0</td>\n",
       "    </tr>\n",
       "    <tr>\n",
       "      <th>1</th>\n",
       "      <td>Подожди, подожди, успокойся пожалуйста. Подожд...</td>\n",
       "      <td>гнев</td>\n",
       "      <td>негатив</td>\n",
       "      <td>0</td>\n",
       "      <td>0</td>\n",
       "    </tr>\n",
       "    <tr>\n",
       "      <th>2</th>\n",
       "      <td>Кристин, привет. Ты слышала там самолёт упал в...</td>\n",
       "      <td>страх</td>\n",
       "      <td>негатив</td>\n",
       "      <td>5</td>\n",
       "      <td>0</td>\n",
       "    </tr>\n",
       "    <tr>\n",
       "      <th>3</th>\n",
       "      <td>Кристин, привет .. слушай .. Я боюсь лететь, т...</td>\n",
       "      <td>страх</td>\n",
       "      <td>негатив</td>\n",
       "      <td>5</td>\n",
       "      <td>0</td>\n",
       "    </tr>\n",
       "    <tr>\n",
       "      <th>4</th>\n",
       "      <td>Почему? Подожди... Ну подожди, ну как же, но м...</td>\n",
       "      <td>грусть</td>\n",
       "      <td>негатив</td>\n",
       "      <td>1</td>\n",
       "      <td>0</td>\n",
       "    </tr>\n",
       "    <tr>\n",
       "      <th>...</th>\n",
       "      <td>...</td>\n",
       "      <td>...</td>\n",
       "      <td>...</td>\n",
       "      <td>...</td>\n",
       "      <td>...</td>\n",
       "    </tr>\n",
       "    <tr>\n",
       "      <th>530</th>\n",
       "      <td>Я тут готовила медовик. Чтобы приготовить медо...</td>\n",
       "      <td>нейтраль</td>\n",
       "      <td>нейтраль</td>\n",
       "      <td>2</td>\n",
       "      <td>1</td>\n",
       "    </tr>\n",
       "    <tr>\n",
       "      <th>531</th>\n",
       "      <td>Значит, правила игры в дурака. Обычного. 36 ка...</td>\n",
       "      <td>нейтраль</td>\n",
       "      <td>нейтраль</td>\n",
       "      <td>2</td>\n",
       "      <td>1</td>\n",
       "    </tr>\n",
       "    <tr>\n",
       "      <th>532</th>\n",
       "      <td>Так. В Третьяковской галерее продается такая и...</td>\n",
       "      <td>нейтраль</td>\n",
       "      <td>нейтраль</td>\n",
       "      <td>2</td>\n",
       "      <td>1</td>\n",
       "    </tr>\n",
       "    <tr>\n",
       "      <th>533</th>\n",
       "      <td>я из города Челябинска. Ничего не умел, ничего...</td>\n",
       "      <td>нейтраль</td>\n",
       "      <td>нейтраль</td>\n",
       "      <td>2</td>\n",
       "      <td>1</td>\n",
       "    </tr>\n",
       "    <tr>\n",
       "      <th>534</th>\n",
       "      <td>Меня зовут Ленога Екатерина, мне 23 года. Я ро...</td>\n",
       "      <td>нейтраль</td>\n",
       "      <td>нейтраль</td>\n",
       "      <td>2</td>\n",
       "      <td>1</td>\n",
       "    </tr>\n",
       "  </tbody>\n",
       "</table>\n",
       "<p>535 rows × 5 columns</p>\n",
       "</div>"
      ],
      "text/plain": [
       "                                         Transcription   Emotion Sentiment  \\\n",
       "0    Давай ты успокоишься для начала. Ты можешь не ...      гнев   негатив   \n",
       "1    Подожди, подожди, успокойся пожалуйста. Подожд...      гнев   негатив   \n",
       "2    Кристин, привет. Ты слышала там самолёт упал в...     страх   негатив   \n",
       "3    Кристин, привет .. слушай .. Я боюсь лететь, т...     страх   негатив   \n",
       "4    Почему? Подожди... Ну подожди, ну как же, но м...    грусть   негатив   \n",
       "..                                                 ...       ...       ...   \n",
       "530  Я тут готовила медовик. Чтобы приготовить медо...  нейтраль  нейтраль   \n",
       "531  Значит, правила игры в дурака. Обычного. 36 ка...  нейтраль  нейтраль   \n",
       "532  Так. В Третьяковской галерее продается такая и...  нейтраль  нейтраль   \n",
       "533  я из города Челябинска. Ничего не умел, ничего...  нейтраль  нейтраль   \n",
       "534  Меня зовут Ленога Екатерина, мне 23 года. Я ро...  нейтраль  нейтраль   \n",
       "\n",
       "     Emotion digits  Sentiment digits  \n",
       "0                 0                 0  \n",
       "1                 0                 0  \n",
       "2                 5                 0  \n",
       "3                 5                 0  \n",
       "4                 1                 0  \n",
       "..              ...               ...  \n",
       "530               2                 1  \n",
       "531               2                 1  \n",
       "532               2                 1  \n",
       "533               2                 1  \n",
       "534               2                 1  \n",
       "\n",
       "[535 rows x 5 columns]"
      ]
     },
     "execution_count": 10,
     "metadata": {},
     "output_type": "execute_result"
    }
   ],
   "source": [
    "db.to_csv('Manual_transcription emotions-sentiments.csv', index=False, sep=';')\n",
    "db"
   ]
  },
  {
   "cell_type": "code",
   "execution_count": null,
   "id": "3a094a6d",
   "metadata": {},
   "outputs": [],
   "source": []
  }
 ],
 "metadata": {
  "kernelspec": {
   "display_name": "Python 3 (ipykernel)",
   "language": "python",
   "name": "python3"
  },
  "language_info": {
   "codemirror_mode": {
    "name": "ipython",
    "version": 3
   },
   "file_extension": ".py",
   "mimetype": "text/x-python",
   "name": "python",
   "nbconvert_exporter": "python",
   "pygments_lexer": "ipython3",
   "version": "3.10.5"
  }
 },
 "nbformat": 4,
 "nbformat_minor": 5
}
