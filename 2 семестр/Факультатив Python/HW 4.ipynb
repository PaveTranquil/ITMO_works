{
 "cells": [
  {
   "cell_type": "markdown",
   "id": "3c3859de",
   "metadata": {},
   "source": [
    "0. Импортируем все нужные функции и классы из модуля `sklearn`"
   ]
  },
  {
   "cell_type": "code",
   "execution_count": 1,
   "id": "2f5bcf6f",
   "metadata": {},
   "outputs": [],
   "source": [
    "import pandas as pd\n",
    "\n",
    "from sklearn.model_selection import train_test_split  # разделение на тестовую и обучающую выборку\n",
    "from sklearn.metrics import classification_report  # метрики оценки\n",
    "\n",
    "from sklearn.linear_model import LogisticRegression  # логистическая регрессия\n",
    "from sklearn.tree import DecisionTreeClassifier  # дерево решений\n",
    "from sklearn.ensemble import RandomForestClassifier  # случайный лес"
   ]
  },
  {
   "cell_type": "markdown",
   "id": "5f59cecf",
   "metadata": {},
   "source": [
    "---\n",
    "1. Считаем с файла тональные вектора, сформированные в предыдущей работе"
   ]
  },
  {
   "cell_type": "code",
   "execution_count": 2,
   "id": "ff22a973",
   "metadata": {},
   "outputs": [
    {
     "data": {
      "text/plain": [
       "(     Count positive  Count negative  Mean sentiment       Max  Min  Median\n",
       " 0                 2               2        0.002604  1.000000 -1.0     0.0\n",
       " 1                 9               3        0.102525  1.000000 -1.0     0.0\n",
       " 2                 7               8       -0.020149  1.000000 -1.0     0.0\n",
       " 3                 5               9       -0.035507  1.000000 -1.0     0.0\n",
       " 4                 0               1       -0.111111  0.000000 -1.0     0.0\n",
       " ..              ...             ...             ...       ...  ...     ...\n",
       " 530               3               5       -0.001373  1.000000 -1.0     0.0\n",
       " 531               1               7       -0.049271  1.000000 -1.0     0.0\n",
       " 532               8               5       -0.003929  0.666667 -1.0     0.0\n",
       " 533               6               7       -0.010018  1.000000 -1.0     0.0\n",
       " 534               8               3        0.046812  1.000000 -1.0     0.0\n",
       " \n",
       " [535 rows x 6 columns],\n",
       " 0      0\n",
       " 1      0\n",
       " 2      0\n",
       " 3      0\n",
       " 4      0\n",
       "       ..\n",
       " 530    1\n",
       " 531    1\n",
       " 532    1\n",
       " 533    1\n",
       " 534    1\n",
       " Name: Sentiment, Length: 535, dtype: int64)"
      ]
     },
     "execution_count": 2,
     "metadata": {},
     "output_type": "execute_result"
    }
   ],
   "source": [
    "df = pd.read_csv('Manual_transcription tonal.csv', sep=',')\n",
    "\n",
    "X = df.drop(columns='Sentiment')\n",
    "Y = df['Sentiment']\n",
    "X, Y"
   ]
  },
  {
   "cell_type": "markdown",
   "id": "f1587853",
   "metadata": {},
   "source": [
    "---\n",
    "2. Сформируем обучающую и тестовую выборку "
   ]
  },
  {
   "cell_type": "code",
   "execution_count": 3,
   "id": "d8dfc003",
   "metadata": {
    "scrolled": false
   },
   "outputs": [
    {
     "data": {
      "text/plain": [
       "(     Count positive  Count negative  Mean sentiment       Max       Min  \\\n",
       " 512              12               0        0.129310  1.000000  0.000000   \n",
       " 322               3               0        0.024155  0.666667  0.000000   \n",
       " 384               2               8       -0.211494  1.000000 -1.166667   \n",
       " \n",
       "      Median  \n",
       " 512     0.0  \n",
       " 322     0.0  \n",
       " 384     0.0  ,\n",
       " 512    2\n",
       " 322    2\n",
       " 384    0\n",
       " Name: Sentiment, dtype: int64)"
      ]
     },
     "execution_count": 3,
     "metadata": {},
     "output_type": "execute_result"
    }
   ],
   "source": [
    "X_train, X_test, Y_train, Y_test = train_test_split(X, Y, test_size=0.2, shuffle=True)\n",
    "X_train.head(3), Y_train.head(3)"
   ]
  },
  {
   "cell_type": "markdown",
   "id": "df0a08e2",
   "metadata": {},
   "source": [
    "---\n",
    "3.1. Обучим классификатор с логистической регрессией"
   ]
  },
  {
   "cell_type": "code",
   "execution_count": 4,
   "id": "e75ef74c",
   "metadata": {},
   "outputs": [
    {
     "data": {
      "text/html": [
       "<style>#sk-container-id-1 {color: black;background-color: white;}#sk-container-id-1 pre{padding: 0;}#sk-container-id-1 div.sk-toggleable {background-color: white;}#sk-container-id-1 label.sk-toggleable__label {cursor: pointer;display: block;width: 100%;margin-bottom: 0;padding: 0.3em;box-sizing: border-box;text-align: center;}#sk-container-id-1 label.sk-toggleable__label-arrow:before {content: \"▸\";float: left;margin-right: 0.25em;color: #696969;}#sk-container-id-1 label.sk-toggleable__label-arrow:hover:before {color: black;}#sk-container-id-1 div.sk-estimator:hover label.sk-toggleable__label-arrow:before {color: black;}#sk-container-id-1 div.sk-toggleable__content {max-height: 0;max-width: 0;overflow: hidden;text-align: left;background-color: #f0f8ff;}#sk-container-id-1 div.sk-toggleable__content pre {margin: 0.2em;color: black;border-radius: 0.25em;background-color: #f0f8ff;}#sk-container-id-1 input.sk-toggleable__control:checked~div.sk-toggleable__content {max-height: 200px;max-width: 100%;overflow: auto;}#sk-container-id-1 input.sk-toggleable__control:checked~label.sk-toggleable__label-arrow:before {content: \"▾\";}#sk-container-id-1 div.sk-estimator input.sk-toggleable__control:checked~label.sk-toggleable__label {background-color: #d4ebff;}#sk-container-id-1 div.sk-label input.sk-toggleable__control:checked~label.sk-toggleable__label {background-color: #d4ebff;}#sk-container-id-1 input.sk-hidden--visually {border: 0;clip: rect(1px 1px 1px 1px);clip: rect(1px, 1px, 1px, 1px);height: 1px;margin: -1px;overflow: hidden;padding: 0;position: absolute;width: 1px;}#sk-container-id-1 div.sk-estimator {font-family: monospace;background-color: #f0f8ff;border: 1px dotted black;border-radius: 0.25em;box-sizing: border-box;margin-bottom: 0.5em;}#sk-container-id-1 div.sk-estimator:hover {background-color: #d4ebff;}#sk-container-id-1 div.sk-parallel-item::after {content: \"\";width: 100%;border-bottom: 1px solid gray;flex-grow: 1;}#sk-container-id-1 div.sk-label:hover label.sk-toggleable__label {background-color: #d4ebff;}#sk-container-id-1 div.sk-serial::before {content: \"\";position: absolute;border-left: 1px solid gray;box-sizing: border-box;top: 0;bottom: 0;left: 50%;z-index: 0;}#sk-container-id-1 div.sk-serial {display: flex;flex-direction: column;align-items: center;background-color: white;padding-right: 0.2em;padding-left: 0.2em;position: relative;}#sk-container-id-1 div.sk-item {position: relative;z-index: 1;}#sk-container-id-1 div.sk-parallel {display: flex;align-items: stretch;justify-content: center;background-color: white;position: relative;}#sk-container-id-1 div.sk-item::before, #sk-container-id-1 div.sk-parallel-item::before {content: \"\";position: absolute;border-left: 1px solid gray;box-sizing: border-box;top: 0;bottom: 0;left: 50%;z-index: -1;}#sk-container-id-1 div.sk-parallel-item {display: flex;flex-direction: column;z-index: 1;position: relative;background-color: white;}#sk-container-id-1 div.sk-parallel-item:first-child::after {align-self: flex-end;width: 50%;}#sk-container-id-1 div.sk-parallel-item:last-child::after {align-self: flex-start;width: 50%;}#sk-container-id-1 div.sk-parallel-item:only-child::after {width: 0;}#sk-container-id-1 div.sk-dashed-wrapped {border: 1px dashed gray;margin: 0 0.4em 0.5em 0.4em;box-sizing: border-box;padding-bottom: 0.4em;background-color: white;}#sk-container-id-1 div.sk-label label {font-family: monospace;font-weight: bold;display: inline-block;line-height: 1.2em;}#sk-container-id-1 div.sk-label-container {text-align: center;}#sk-container-id-1 div.sk-container {/* jupyter's `normalize.less` sets `[hidden] { display: none; }` but bootstrap.min.css set `[hidden] { display: none !important; }` so we also need the `!important` here to be able to override the default hidden behavior on the sphinx rendered scikit-learn.org. See: https://github.com/scikit-learn/scikit-learn/issues/21755 */display: inline-block !important;position: relative;}#sk-container-id-1 div.sk-text-repr-fallback {display: none;}</style><div id=\"sk-container-id-1\" class=\"sk-top-container\"><div class=\"sk-text-repr-fallback\"><pre>LogisticRegression(C=0.2, class_weight=&#x27;balanced&#x27;, n_jobs=-1)</pre><b>In a Jupyter environment, please rerun this cell to show the HTML representation or trust the notebook. <br />On GitHub, the HTML representation is unable to render, please try loading this page with nbviewer.org.</b></div><div class=\"sk-container\" hidden><div class=\"sk-item\"><div class=\"sk-estimator sk-toggleable\"><input class=\"sk-toggleable__control sk-hidden--visually\" id=\"sk-estimator-id-1\" type=\"checkbox\" checked><label for=\"sk-estimator-id-1\" class=\"sk-toggleable__label sk-toggleable__label-arrow\">LogisticRegression</label><div class=\"sk-toggleable__content\"><pre>LogisticRegression(C=0.2, class_weight=&#x27;balanced&#x27;, n_jobs=-1)</pre></div></div></div></div></div>"
      ],
      "text/plain": [
       "LogisticRegression(C=0.2, class_weight='balanced', n_jobs=-1)"
      ]
     },
     "execution_count": 4,
     "metadata": {},
     "output_type": "execute_result"
    }
   ],
   "source": [
    "lgstc_cls = LogisticRegression(penalty='l2', C=0.2, class_weight='balanced', n_jobs=-1)\n",
    "trained_lgstc = lgstc_cls.fit(X_train, Y_train)\n",
    "trained_lgstc"
   ]
  },
  {
   "cell_type": "code",
   "execution_count": 5,
   "id": "38e0b97a",
   "metadata": {},
   "outputs": [
    {
     "data": {
      "text/plain": [
       "(array([0, 0, 0, 2, 2, 2, 2, 2, 2, 0, 1, 0, 0, 0, 2, 0, 0, 0, 2, 0, 0, 0,\n",
       "        0, 0, 0, 0, 1, 0, 0, 0, 2, 2, 0, 0, 1, 0, 0, 0, 1, 1, 0, 2, 0, 0,\n",
       "        0, 2, 0, 0, 0, 0, 0, 2, 0, 0, 2, 2, 0, 2, 0, 2, 0, 0, 0, 1, 2, 0,\n",
       "        1, 0, 0, 0, 0, 0, 0, 2, 0, 1, 2, 2, 0, 0, 2, 2, 1, 0, 2, 1, 1, 0,\n",
       "        0, 2, 2, 0, 2, 2, 0, 2, 2, 2, 0, 1, 2, 0, 2, 2, 2, 0, 0],\n",
       "       dtype=int64),\n",
       " array([1, 0, 0, 0, 0, 0, 0, 0, 2, 1, 1, 0, 2, 0, 2, 0, 0, 0, 2, 0, 0, 0,\n",
       "        0, 2, 0, 0, 2, 2, 0, 0, 2, 0, 0, 0, 0, 0, 2, 0, 1, 1, 1, 1, 0, 0,\n",
       "        0, 2, 2, 0, 0, 2, 0, 2, 0, 2, 0, 2, 1, 1, 2, 0, 0, 0, 0, 2, 2, 0,\n",
       "        1, 0, 1, 0, 1, 0, 0, 0, 0, 2, 0, 0, 0, 0, 0, 1, 1, 0, 1, 0, 2, 0,\n",
       "        2, 0, 0, 2, 2, 0, 0, 1, 1, 2, 0, 2, 2, 0, 0, 0, 0, 0, 0],\n",
       "       dtype=int64))"
      ]
     },
     "execution_count": 5,
     "metadata": {},
     "output_type": "execute_result"
    }
   ],
   "source": [
    "lgstc_predict = trained_lgstc.predict(X_test)\n",
    "lgstc_predict, Y_test.to_numpy()"
   ]
  },
  {
   "cell_type": "markdown",
   "id": "66d58743",
   "metadata": {},
   "source": [
    "3.2. Обучим классификатор с деревьями решений"
   ]
  },
  {
   "cell_type": "code",
   "execution_count": 6,
   "id": "bc4dd7ba",
   "metadata": {},
   "outputs": [
    {
     "data": {
      "text/html": [
       "<style>#sk-container-id-2 {color: black;background-color: white;}#sk-container-id-2 pre{padding: 0;}#sk-container-id-2 div.sk-toggleable {background-color: white;}#sk-container-id-2 label.sk-toggleable__label {cursor: pointer;display: block;width: 100%;margin-bottom: 0;padding: 0.3em;box-sizing: border-box;text-align: center;}#sk-container-id-2 label.sk-toggleable__label-arrow:before {content: \"▸\";float: left;margin-right: 0.25em;color: #696969;}#sk-container-id-2 label.sk-toggleable__label-arrow:hover:before {color: black;}#sk-container-id-2 div.sk-estimator:hover label.sk-toggleable__label-arrow:before {color: black;}#sk-container-id-2 div.sk-toggleable__content {max-height: 0;max-width: 0;overflow: hidden;text-align: left;background-color: #f0f8ff;}#sk-container-id-2 div.sk-toggleable__content pre {margin: 0.2em;color: black;border-radius: 0.25em;background-color: #f0f8ff;}#sk-container-id-2 input.sk-toggleable__control:checked~div.sk-toggleable__content {max-height: 200px;max-width: 100%;overflow: auto;}#sk-container-id-2 input.sk-toggleable__control:checked~label.sk-toggleable__label-arrow:before {content: \"▾\";}#sk-container-id-2 div.sk-estimator input.sk-toggleable__control:checked~label.sk-toggleable__label {background-color: #d4ebff;}#sk-container-id-2 div.sk-label input.sk-toggleable__control:checked~label.sk-toggleable__label {background-color: #d4ebff;}#sk-container-id-2 input.sk-hidden--visually {border: 0;clip: rect(1px 1px 1px 1px);clip: rect(1px, 1px, 1px, 1px);height: 1px;margin: -1px;overflow: hidden;padding: 0;position: absolute;width: 1px;}#sk-container-id-2 div.sk-estimator {font-family: monospace;background-color: #f0f8ff;border: 1px dotted black;border-radius: 0.25em;box-sizing: border-box;margin-bottom: 0.5em;}#sk-container-id-2 div.sk-estimator:hover {background-color: #d4ebff;}#sk-container-id-2 div.sk-parallel-item::after {content: \"\";width: 100%;border-bottom: 1px solid gray;flex-grow: 1;}#sk-container-id-2 div.sk-label:hover label.sk-toggleable__label {background-color: #d4ebff;}#sk-container-id-2 div.sk-serial::before {content: \"\";position: absolute;border-left: 1px solid gray;box-sizing: border-box;top: 0;bottom: 0;left: 50%;z-index: 0;}#sk-container-id-2 div.sk-serial {display: flex;flex-direction: column;align-items: center;background-color: white;padding-right: 0.2em;padding-left: 0.2em;position: relative;}#sk-container-id-2 div.sk-item {position: relative;z-index: 1;}#sk-container-id-2 div.sk-parallel {display: flex;align-items: stretch;justify-content: center;background-color: white;position: relative;}#sk-container-id-2 div.sk-item::before, #sk-container-id-2 div.sk-parallel-item::before {content: \"\";position: absolute;border-left: 1px solid gray;box-sizing: border-box;top: 0;bottom: 0;left: 50%;z-index: -1;}#sk-container-id-2 div.sk-parallel-item {display: flex;flex-direction: column;z-index: 1;position: relative;background-color: white;}#sk-container-id-2 div.sk-parallel-item:first-child::after {align-self: flex-end;width: 50%;}#sk-container-id-2 div.sk-parallel-item:last-child::after {align-self: flex-start;width: 50%;}#sk-container-id-2 div.sk-parallel-item:only-child::after {width: 0;}#sk-container-id-2 div.sk-dashed-wrapped {border: 1px dashed gray;margin: 0 0.4em 0.5em 0.4em;box-sizing: border-box;padding-bottom: 0.4em;background-color: white;}#sk-container-id-2 div.sk-label label {font-family: monospace;font-weight: bold;display: inline-block;line-height: 1.2em;}#sk-container-id-2 div.sk-label-container {text-align: center;}#sk-container-id-2 div.sk-container {/* jupyter's `normalize.less` sets `[hidden] { display: none; }` but bootstrap.min.css set `[hidden] { display: none !important; }` so we also need the `!important` here to be able to override the default hidden behavior on the sphinx rendered scikit-learn.org. See: https://github.com/scikit-learn/scikit-learn/issues/21755 */display: inline-block !important;position: relative;}#sk-container-id-2 div.sk-text-repr-fallback {display: none;}</style><div id=\"sk-container-id-2\" class=\"sk-top-container\"><div class=\"sk-text-repr-fallback\"><pre>DecisionTreeClassifier(class_weight=&#x27;balanced&#x27;, criterion=&#x27;entropy&#x27;,\n",
       "                       max_depth=200)</pre><b>In a Jupyter environment, please rerun this cell to show the HTML representation or trust the notebook. <br />On GitHub, the HTML representation is unable to render, please try loading this page with nbviewer.org.</b></div><div class=\"sk-container\" hidden><div class=\"sk-item\"><div class=\"sk-estimator sk-toggleable\"><input class=\"sk-toggleable__control sk-hidden--visually\" id=\"sk-estimator-id-2\" type=\"checkbox\" checked><label for=\"sk-estimator-id-2\" class=\"sk-toggleable__label sk-toggleable__label-arrow\">DecisionTreeClassifier</label><div class=\"sk-toggleable__content\"><pre>DecisionTreeClassifier(class_weight=&#x27;balanced&#x27;, criterion=&#x27;entropy&#x27;,\n",
       "                       max_depth=200)</pre></div></div></div></div></div>"
      ],
      "text/plain": [
       "DecisionTreeClassifier(class_weight='balanced', criterion='entropy',\n",
       "                       max_depth=200)"
      ]
     },
     "execution_count": 6,
     "metadata": {},
     "output_type": "execute_result"
    }
   ],
   "source": [
    "tree_cls = DecisionTreeClassifier(criterion='entropy', max_depth=200, class_weight='balanced')\n",
    "trained_tree = tree_cls.fit(X_train, Y_train)\n",
    "trained_tree"
   ]
  },
  {
   "cell_type": "code",
   "execution_count": 7,
   "id": "24cea74a",
   "metadata": {},
   "outputs": [
    {
     "data": {
      "text/plain": [
       "(array([0, 0, 0, 0, 0, 1, 0, 0, 2, 1, 1, 2, 0, 0, 2, 2, 0, 0, 2, 0, 0, 0,\n",
       "        0, 2, 0, 0, 0, 0, 0, 0, 1, 1, 2, 0, 0, 0, 1, 2, 1, 2, 2, 2, 0, 0,\n",
       "        0, 2, 0, 0, 0, 0, 0, 2, 0, 1, 0, 2, 0, 1, 0, 1, 0, 1, 2, 2, 1, 1,\n",
       "        0, 2, 0, 0, 0, 0, 2, 1, 0, 2, 0, 2, 0, 2, 2, 2, 1, 1, 0, 0, 2, 0,\n",
       "        0, 0, 1, 0, 1, 1, 0, 2, 2, 0, 0, 0, 0, 0, 0, 1, 2, 0, 0],\n",
       "       dtype=int64),\n",
       " array([1, 0, 0, 0, 0, 0, 0, 0, 2, 1, 1, 0, 2, 0, 2, 0, 0, 0, 2, 0, 0, 0,\n",
       "        0, 2, 0, 0, 2, 2, 0, 0, 2, 0, 0, 0, 0, 0, 2, 0, 1, 1, 1, 1, 0, 0,\n",
       "        0, 2, 2, 0, 0, 2, 0, 2, 0, 2, 0, 2, 1, 1, 2, 0, 0, 0, 0, 2, 2, 0,\n",
       "        1, 0, 1, 0, 1, 0, 0, 0, 0, 2, 0, 0, 0, 0, 0, 1, 1, 0, 1, 0, 2, 0,\n",
       "        2, 0, 0, 2, 2, 0, 0, 1, 1, 2, 0, 2, 2, 0, 0, 0, 0, 0, 0],\n",
       "       dtype=int64))"
      ]
     },
     "execution_count": 7,
     "metadata": {},
     "output_type": "execute_result"
    }
   ],
   "source": [
    "tree_predict = trained_tree.predict(X_test)\n",
    "tree_predict, Y_test.to_numpy()"
   ]
  },
  {
   "cell_type": "markdown",
   "id": "6b091d33",
   "metadata": {},
   "source": [
    "3.3. Обучим классификатор со случайным лесом"
   ]
  },
  {
   "cell_type": "code",
   "execution_count": 8,
   "id": "fc17d8a4",
   "metadata": {},
   "outputs": [
    {
     "data": {
      "text/html": [
       "<style>#sk-container-id-3 {color: black;background-color: white;}#sk-container-id-3 pre{padding: 0;}#sk-container-id-3 div.sk-toggleable {background-color: white;}#sk-container-id-3 label.sk-toggleable__label {cursor: pointer;display: block;width: 100%;margin-bottom: 0;padding: 0.3em;box-sizing: border-box;text-align: center;}#sk-container-id-3 label.sk-toggleable__label-arrow:before {content: \"▸\";float: left;margin-right: 0.25em;color: #696969;}#sk-container-id-3 label.sk-toggleable__label-arrow:hover:before {color: black;}#sk-container-id-3 div.sk-estimator:hover label.sk-toggleable__label-arrow:before {color: black;}#sk-container-id-3 div.sk-toggleable__content {max-height: 0;max-width: 0;overflow: hidden;text-align: left;background-color: #f0f8ff;}#sk-container-id-3 div.sk-toggleable__content pre {margin: 0.2em;color: black;border-radius: 0.25em;background-color: #f0f8ff;}#sk-container-id-3 input.sk-toggleable__control:checked~div.sk-toggleable__content {max-height: 200px;max-width: 100%;overflow: auto;}#sk-container-id-3 input.sk-toggleable__control:checked~label.sk-toggleable__label-arrow:before {content: \"▾\";}#sk-container-id-3 div.sk-estimator input.sk-toggleable__control:checked~label.sk-toggleable__label {background-color: #d4ebff;}#sk-container-id-3 div.sk-label input.sk-toggleable__control:checked~label.sk-toggleable__label {background-color: #d4ebff;}#sk-container-id-3 input.sk-hidden--visually {border: 0;clip: rect(1px 1px 1px 1px);clip: rect(1px, 1px, 1px, 1px);height: 1px;margin: -1px;overflow: hidden;padding: 0;position: absolute;width: 1px;}#sk-container-id-3 div.sk-estimator {font-family: monospace;background-color: #f0f8ff;border: 1px dotted black;border-radius: 0.25em;box-sizing: border-box;margin-bottom: 0.5em;}#sk-container-id-3 div.sk-estimator:hover {background-color: #d4ebff;}#sk-container-id-3 div.sk-parallel-item::after {content: \"\";width: 100%;border-bottom: 1px solid gray;flex-grow: 1;}#sk-container-id-3 div.sk-label:hover label.sk-toggleable__label {background-color: #d4ebff;}#sk-container-id-3 div.sk-serial::before {content: \"\";position: absolute;border-left: 1px solid gray;box-sizing: border-box;top: 0;bottom: 0;left: 50%;z-index: 0;}#sk-container-id-3 div.sk-serial {display: flex;flex-direction: column;align-items: center;background-color: white;padding-right: 0.2em;padding-left: 0.2em;position: relative;}#sk-container-id-3 div.sk-item {position: relative;z-index: 1;}#sk-container-id-3 div.sk-parallel {display: flex;align-items: stretch;justify-content: center;background-color: white;position: relative;}#sk-container-id-3 div.sk-item::before, #sk-container-id-3 div.sk-parallel-item::before {content: \"\";position: absolute;border-left: 1px solid gray;box-sizing: border-box;top: 0;bottom: 0;left: 50%;z-index: -1;}#sk-container-id-3 div.sk-parallel-item {display: flex;flex-direction: column;z-index: 1;position: relative;background-color: white;}#sk-container-id-3 div.sk-parallel-item:first-child::after {align-self: flex-end;width: 50%;}#sk-container-id-3 div.sk-parallel-item:last-child::after {align-self: flex-start;width: 50%;}#sk-container-id-3 div.sk-parallel-item:only-child::after {width: 0;}#sk-container-id-3 div.sk-dashed-wrapped {border: 1px dashed gray;margin: 0 0.4em 0.5em 0.4em;box-sizing: border-box;padding-bottom: 0.4em;background-color: white;}#sk-container-id-3 div.sk-label label {font-family: monospace;font-weight: bold;display: inline-block;line-height: 1.2em;}#sk-container-id-3 div.sk-label-container {text-align: center;}#sk-container-id-3 div.sk-container {/* jupyter's `normalize.less` sets `[hidden] { display: none; }` but bootstrap.min.css set `[hidden] { display: none !important; }` so we also need the `!important` here to be able to override the default hidden behavior on the sphinx rendered scikit-learn.org. See: https://github.com/scikit-learn/scikit-learn/issues/21755 */display: inline-block !important;position: relative;}#sk-container-id-3 div.sk-text-repr-fallback {display: none;}</style><div id=\"sk-container-id-3\" class=\"sk-top-container\"><div class=\"sk-text-repr-fallback\"><pre>RandomForestClassifier(class_weight=&#x27;balanced&#x27;, max_depth=200, n_estimators=200)</pre><b>In a Jupyter environment, please rerun this cell to show the HTML representation or trust the notebook. <br />On GitHub, the HTML representation is unable to render, please try loading this page with nbviewer.org.</b></div><div class=\"sk-container\" hidden><div class=\"sk-item\"><div class=\"sk-estimator sk-toggleable\"><input class=\"sk-toggleable__control sk-hidden--visually\" id=\"sk-estimator-id-3\" type=\"checkbox\" checked><label for=\"sk-estimator-id-3\" class=\"sk-toggleable__label sk-toggleable__label-arrow\">RandomForestClassifier</label><div class=\"sk-toggleable__content\"><pre>RandomForestClassifier(class_weight=&#x27;balanced&#x27;, max_depth=200, n_estimators=200)</pre></div></div></div></div></div>"
      ],
      "text/plain": [
       "RandomForestClassifier(class_weight='balanced', max_depth=200, n_estimators=200)"
      ]
     },
     "execution_count": 8,
     "metadata": {},
     "output_type": "execute_result"
    }
   ],
   "source": [
    "forest_cls = RandomForestClassifier(n_estimators=200, max_depth=200, class_weight='balanced')\n",
    "trained_forest = forest_cls.fit(X_train, Y_train)\n",
    "trained_forest"
   ]
  },
  {
   "cell_type": "code",
   "execution_count": 9,
   "id": "0f66e04d",
   "metadata": {},
   "outputs": [
    {
     "data": {
      "text/plain": [
       "(array([0, 0, 0, 0, 0, 1, 0, 0, 2, 1, 1, 0, 0, 0, 2, 0, 0, 0, 2, 2, 0, 0,\n",
       "        0, 2, 0, 0, 0, 0, 0, 0, 1, 2, 0, 0, 0, 0, 1, 0, 1, 0, 0, 2, 0, 0,\n",
       "        0, 2, 0, 0, 0, 0, 0, 2, 2, 2, 0, 2, 0, 1, 0, 1, 0, 0, 1, 0, 1, 0,\n",
       "        0, 0, 0, 0, 0, 0, 0, 1, 0, 0, 0, 0, 0, 2, 0, 2, 1, 0, 0, 0, 2, 0,\n",
       "        0, 0, 1, 0, 2, 1, 0, 2, 2, 0, 0, 2, 0, 0, 0, 1, 0, 0, 0],\n",
       "       dtype=int64),\n",
       " array([1, 0, 0, 0, 0, 0, 0, 0, 2, 1, 1, 0, 2, 0, 2, 0, 0, 0, 2, 0, 0, 0,\n",
       "        0, 2, 0, 0, 2, 2, 0, 0, 2, 0, 0, 0, 0, 0, 2, 0, 1, 1, 1, 1, 0, 0,\n",
       "        0, 2, 2, 0, 0, 2, 0, 2, 0, 2, 0, 2, 1, 1, 2, 0, 0, 0, 0, 2, 2, 0,\n",
       "        1, 0, 1, 0, 1, 0, 0, 0, 0, 2, 0, 0, 0, 0, 0, 1, 1, 0, 1, 0, 2, 0,\n",
       "        2, 0, 0, 2, 2, 0, 0, 1, 1, 2, 0, 2, 2, 0, 0, 0, 0, 0, 0],\n",
       "       dtype=int64))"
      ]
     },
     "execution_count": 9,
     "metadata": {},
     "output_type": "execute_result"
    }
   ],
   "source": [
    "forest_predict = trained_forest.predict(X_test)\n",
    "forest_predict, Y_test.to_numpy()"
   ]
  },
  {
   "cell_type": "markdown",
   "id": "05da03df",
   "metadata": {},
   "source": [
    "---\n",
    "4. Оценим работу классификаторов с помощью метрик"
   ]
  },
  {
   "cell_type": "code",
   "execution_count": 10,
   "id": "8447be1d",
   "metadata": {},
   "outputs": [
    {
     "name": "stdout",
     "output_type": "stream",
     "text": [
      "Логистическая регрессия\n",
      "               precision    recall  f1-score   support\n",
      "\n",
      "           0     0.7333    0.6875    0.7097        64\n",
      "           1     0.4167    0.2941    0.3448        17\n",
      "           2     0.3143    0.4231    0.3607        26\n",
      "\n",
      "    accuracy                         0.5607       107\n",
      "   macro avg     0.4881    0.4682    0.4717       107\n",
      "weighted avg     0.5812    0.5607    0.5669       107\n",
      " \n",
      "\n",
      "Деревья решений\n",
      "               precision    recall  f1-score   support\n",
      "\n",
      "           0     0.7167    0.6719    0.6935        64\n",
      "           1     0.2500    0.2941    0.2703        17\n",
      "           2     0.3704    0.3846    0.3774        26\n",
      "\n",
      "    accuracy                         0.5421       107\n",
      "   macro avg     0.4457    0.4502    0.4471       107\n",
      "weighted avg     0.5584    0.5421    0.5495       107\n",
      " \n",
      "\n",
      "Случайный лес\n",
      "               precision    recall  f1-score   support\n",
      "\n",
      "           0     0.7260    0.8281    0.7737        64\n",
      "           1     0.3333    0.2941    0.3125        17\n",
      "           2     0.5789    0.4231    0.4889        26\n",
      "\n",
      "    accuracy                         0.6449       107\n",
      "   macro avg     0.5461    0.5151    0.5250       107\n",
      "weighted avg     0.6279    0.6449    0.6312       107\n",
      "\n"
     ]
    }
   ],
   "source": [
    "print('Логистическая регрессия\\n', classification_report(Y_test, lgstc_predict, digits = 4), '\\n')\n",
    "print('Деревья решений\\n', classification_report(Y_test, tree_predict, digits = 4), '\\n')\n",
    "print('Случайный лес\\n', classification_report(Y_test, forest_predict, digits = 4))"
   ]
  },
  {
   "cell_type": "markdown",
   "id": "798fc8a5",
   "metadata": {},
   "source": [
    "#### На основе метрик делаем вывод, что лучше всего с задачей классификации справился классификатор «Случайный лес»."
   ]
  }
 ],
 "metadata": {
  "kernelspec": {
   "display_name": "Python 3 (ipykernel)",
   "language": "python",
   "name": "python3"
  },
  "language_info": {
   "codemirror_mode": {
    "name": "ipython",
    "version": 3
   },
   "file_extension": ".py",
   "mimetype": "text/x-python",
   "name": "python",
   "nbconvert_exporter": "python",
   "pygments_lexer": "ipython3",
   "version": "3.10.5"
  }
 },
 "nbformat": 4,
 "nbformat_minor": 5
}
